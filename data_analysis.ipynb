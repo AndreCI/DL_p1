{
 "cells": [
  {
   "cell_type": "code",
   "execution_count": 1,
   "metadata": {
    "collapsed": true
   },
   "outputs": [],
   "source": [
    "import dlc_bci as bci\n",
    "import matplotlib.pyplot as plt\n",
    "from mpl_toolkits.mplot3d import Axes3D\n",
    "from matplotlib import cm\n",
    "import os\n",
    "import numpy as np\n",
    "import torch\n",
    "\n",
    "train_̇input, train_̇target = bci.load(root='./data', train=True, store_local=True)\n",
    "\n",
    "#print(str(type(train_̇input)), train_̇input.size())\n",
    "#print(str(type(train_̇target)), train_̇target.size())\n",
    "test_̇input, test_̇target = bci.load(root='./data', train=False, store_local=True)\n",
    "#print(str(type(test_̇input)), test_̇input.size())\n",
    "#print(str(type(test_̇target)), test_̇target.size())"
   ]
  },
  {
   "cell_type": "code",
   "execution_count": 2,
   "metadata": {},
   "outputs": [
    {
     "name": "stdout",
     "output_type": "stream",
     "text": [
      "[[ 41.8  44.8  47.1 ...  69.8  72.6  76.1]\n [-10.3  -5.9  -3.3 ...  12.6  24.   26.5]\n [ 38.1  25.2  46.  ...  45.1  74.1  64.8]\n ...\n [  7.9  11.2  14.3 ...  32.7  43.4  45.5]\n [ 19.2  33.6  33.8 ...  46.7  53.7  43.4]\n [ -0.4  12.7  12.  ...  30.7  40.6  33.1]]\n(28, 50)\n"
     ]
    }
   ],
   "source": [
    "test_ex = train_̇input[0].numpy()\n",
    "print(test_ex)\n",
    "print(np.shape(test_ex))"
   ]
  },
  {
   "cell_type": "code",
   "execution_count": null,
   "metadata": {
    "collapsed": true
   },
   "outputs": [],
   "source": [
    "def generate_figures(number, folder):\n",
    "    if not os.path.exists(folder): os.mkdir(folder)\n",
    "    for i in range(0, number):\n",
    "        test_ex = train_̇input[i].numpy()\n",
    "        target = train_̇target[i]\n",
    "        fig = plt.figure(figsize=(40, 40))\n",
    "        ax = fig.add_subplot(111, projection=\"3d\")\n",
    "        x_axes = np.arange(np.shape(test_ex)[0])\n",
    "        y_axes = np.arange(np.shape(test_ex)[1])\n",
    "        X, Y = np.meshgrid(y_axes, x_axes)\n",
    "        ax.plot_surface(X, Y, test_ex, cmap=cm.coolwarm)\n",
    "        s = str('%i_test_%i.png' %(int(target), i))\n",
    "        path = os.path.join(folder, s)\n",
    "        plt.savefig(fname=path)\n",
    "\n",
    "generate_figures(20, 'figs')\n",
    "\n",
    "\n",
    "\n"
   ]
  }
 ],
 "metadata": {
  "kernelspec": {
   "display_name": "Python 2",
   "language": "python",
   "name": "python2"
  },
  "language_info": {
   "codemirror_mode": {
    "name": "ipython",
    "version": 2
   },
   "file_extension": ".py",
   "mimetype": "text/x-python",
   "name": "python",
   "nbconvert_exporter": "python",
   "pygments_lexer": "ipython2",
   "version": "2.7.6"
  }
 },
 "nbformat": 4,
 "nbformat_minor": 0
}
