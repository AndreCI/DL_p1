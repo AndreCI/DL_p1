{
 "cells": [
  {
   "cell_type": "code",
   "execution_count": 43,
   "metadata": {
    "collapsed": false
   },
   "outputs": [
    {
     "name": "stdout",
     "output_type": "stream",
     "text": [
      "<class 'torch.FloatTensor'> torch.Size([316, 28, 50])\n<class 'torch.LongTensor'> torch.Size([316])\n"
     ]
    }
   ],
   "source": [
    "import dlc_bci as bci\n",
    "import matplotlib.pyplot as plt\n",
    "from mpl_toolkits.mplot3d import Axes3D\n",
    "from matplotlib import cm\n",
    "import os\n",
    "import numpy as np\n",
    "import torch\n",
    "from sklearn import decomposition\n",
    "from __future__ import division\n",
    "from scipy.signal import butter, lfilter\n",
    "\n",
    "train_̇input, train_̇target = bci.load(root='./data', train=True, store_local=True)\n",
    "\n",
    "print(str(type(train_̇input)), train_̇input.size())\n",
    "print(str(type(train_̇target)), train_̇target.size())\n",
    "test_̇input, test_̇target = bci.load(root='./data', train=False, store_local=True)\n",
    "#print(str(type(test_̇input)), test_̇input.size())\n",
    "#print(str(type(test_̇target)), test_̇target.size())"
   ]
  },
  {
   "cell_type": "code",
   "execution_count": 20,
   "metadata": {},
   "outputs": [
    {
     "name": "stdout",
     "output_type": "stream",
     "text": [
      "torch.Size([316, 28, 50])\n"
     ]
    },
    {
     "name": "stdout",
     "output_type": "stream",
     "text": [
      "torch.Size([316, 28, 3])\n"
     ]
    }
   ],
   "source": [
    "def firfilt(interval, freq, sampling_rate):\n",
    "    nfreq = freq/(0.5*sampling_rate)\n",
    "    taps = sampling_rate + 1\n",
    "    a = 1\n",
    "    b = scipy.signal.firwin(taps, cutoff=nfreq)\n",
    "    firstpass = scipy.signal.lfilter(b, a, interval)\n",
    "    secondpass = scipy.signal.lfilter(b, a, firstpass[::-1])[::-1]\n",
    "    return secondpass\n",
    "firfilt(train_̇input[1,:,1], )"
   ]
  },
  {
   "cell_type": "code",
   "execution_count": 42,
   "metadata": {},
   "outputs": [
    {
     "ename": "NotImplementedError",
     "evalue": "",
     "traceback": [
      "\u001b[0;31m---------------------------------------------------------------------------\u001b[0m",
      "\u001b[0;31mNotImplementedError\u001b[0m                       Traceback (most recent call last)",
      "\u001b[0;32m<ipython-input-42-fed9eb944a61>\u001b[0m in \u001b[0;36m<module>\u001b[0;34m()\u001b[0m\n\u001b[1;32m     10\u001b[0m     \u001b[0;32mreturn\u001b[0m \u001b[0mdata\u001b[0m\u001b[0;34m\u001b[0m\u001b[0m\n\u001b[1;32m     11\u001b[0m \u001b[0;34m\u001b[0m\u001b[0m\n\u001b[0;32m---> 12\u001b[0;31m \u001b[0;32mraise\u001b[0m \u001b[0mNotImplementedError\u001b[0m\u001b[0;34m(\u001b[0m\u001b[0;34m)\u001b[0m\u001b[0;34m\u001b[0m\u001b[0m\n\u001b[0m\u001b[1;32m     13\u001b[0m \u001b[0;32mdef\u001b[0m \u001b[0mPCA\u001b[0m\u001b[0;34m(\u001b[0m\u001b[0mdata\u001b[0m\u001b[0;34m)\u001b[0m\u001b[0;34m:\u001b[0m\u001b[0;34m\u001b[0m\u001b[0m\n\u001b[1;32m     14\u001b[0m     \u001b[0mdata\u001b[0m \u001b[0;34m=\u001b[0m \u001b[0mdata\u001b[0m\u001b[0;34m.\u001b[0m\u001b[0mview\u001b[0m\u001b[0;34m(\u001b[0m\u001b[0;36m316\u001b[0m\u001b[0;34m,\u001b[0m \u001b[0;34m-\u001b[0m\u001b[0;36m1\u001b[0m\u001b[0;34m)\u001b[0m\u001b[0;34m\u001b[0m\u001b[0m\n",
      "\u001b[0;31mNotImplementedError\u001b[0m: "
     ],
     "output_type": "error"
    }
   ],
   "source": [
    "def low_pass(data, val):\n",
    "    fs = 100\n",
    "    cutoff = val\n",
    "    for j in range(data.size()[0]):\n",
    "        for i in range(data.size()[1]):\n",
    "            signal = data[j, :, i]\n",
    "            B, A = butter(1, cutoff / (fs / 2), btype='low')  # 1st order Butterworth low-pass\n",
    "            filtered_signal = lfilter(B, A, signal, axis=0)\n",
    "            data[j,:,i] = torch.FloatTensor(filtered_signal)\n",
    "    return data\n",
    "    \n",
    "raise NotImplementedError()\n",
    "def PCA(data):\n",
    "    data = data.view(316, -1)\n",
    "    print(data)\n",
    "    pca = decomposition.PCA(n_components=3)\n",
    "    d2 = pca.fit_transform(data)\n",
    "    print(np.shape(d2))\n",
    "    \n",
    "PCA(train_̇input)\n",
    "raise NotImplementedError()\n",
    "\n",
    "def make_low_pass(data):\n",
    "    relu = torch.nn.ReLU()\n",
    "    print(data.mean())\n",
    "    print(data.mean())\n",
    "    mask = (data < 50).type(torch.FloatTensor)\n",
    "    data = data * mask\n",
    "    print(data)\n",
    "    \n",
    "make_low_pass(train_̇input)\n",
    "def make_PCA(data):\n",
    "    data = data.view(data.size()[0], -1)\n",
    "    print(data.size())\n",
    "    dmean = data.mean(1)\n",
    "    print(dmean.size())\n",
    "    d_center = data - dmean.view(dmean.size()[0], -1)\n",
    "    print(d_center.size())\n",
    "    U, _, _ = torch.svd(d_center.t())\n",
    "    print(U.size())\n",
    "    print(d_center.mm(U[:,:8]))\n",
    "    \n",
    "    dmean = data.mean(0)\n",
    "    print(dmean.view(-1, data.size()[1], data.size()[2]).size())\n",
    "    data = data - dmean.view(-1, data.size()[1], data.size()[2])\n",
    "    print(data.size())\n",
    "    data = data.view(data.size()[0], data.size()[1])\n",
    "    U,S,V = torch.svd(data)\n",
    "    print(U.size())\n",
    "    return data.mm(U)\n",
    "    raise NotImplementedError()\n",
    "#make_PCA(train_̇input)\n"
   ]
  },
  {
   "cell_type": "code",
   "execution_count": 45,
   "metadata": {
    "collapsed": true
   },
   "outputs": [
    {
     "data": {
      "text/plain": [
       "<Figure size 2880x1440 with 0 Axes>"
      ]
     },
     "execution_count": 0,
     "metadata": {},
     "output_type": "execute_result"
    },
    {
     "data": {
      "text/plain": [
       "<Figure size 2880x1440 with 0 Axes>"
      ]
     },
     "execution_count": 0,
     "metadata": {},
     "output_type": "execute_result"
    },
    {
     "data": {
      "text/plain": [
       "<Figure size 2880x1440 with 0 Axes>"
      ]
     },
     "execution_count": 0,
     "metadata": {},
     "output_type": "execute_result"
    },
    {
     "data": {
      "text/plain": [
       "<Figure size 2880x1440 with 0 Axes>"
      ]
     },
     "execution_count": 0,
     "metadata": {},
     "output_type": "execute_result"
    },
    {
     "data": {
      "text/plain": [
       "<Figure size 2880x1440 with 0 Axes>"
      ]
     },
     "execution_count": 0,
     "metadata": {},
     "output_type": "execute_result"
    }
   ],
   "source": [
    "def generate_figures(number, folder, train_̇input):\n",
    "    if not os.path.exists(folder): os.mkdir(folder)\n",
    "    train_̇input = low_pass(train_̇input, 10)\n",
    "    for i in range(75, 75+number):\n",
    "        test_ex = train_̇input[i].numpy()\n",
    "        target = train_̇target[i]\n",
    "        fig = plt.figure(figsize=(40, 20))\n",
    "        s = str(\"Display of example %i. Target is %i\" %(i, int(target)))\n",
    "        plt.title(s)\n",
    "        ax = fig.add_subplot(121, projection=\"3d\")\n",
    "        x_axes = np.arange(np.shape(test_ex)[0])\n",
    "        y_axes = np.arange(np.shape(test_ex)[1])\n",
    "        X, Y = np.meshgrid(y_axes, x_axes)\n",
    "        ax.plot_surface(X, Y, test_ex, cmap=cm.coolwarm)\n",
    "        ax.set_xlabel('time')\n",
    "        ax.set_ylabel('channel')\n",
    "        ax = fig.add_subplot(122, projection=\"3d\")\n",
    "        x_axes = np.arange(np.shape(test_ex)[1])\n",
    "        y_axes = np.arange(np.shape(test_ex)[0])\n",
    "        X, Y = np.meshgrid(y_axes, x_axes)\n",
    "        ax.plot_surface(X, Y, np.transpose(test_ex), cmap=cm.coolwarm)\n",
    "        ax.set_ylabel('time')\n",
    "        ax.set_xlabel('channel')\n",
    "        s = str('%i_test_%i.png' %(int(target), i))\n",
    "        path = os.path.join(folder, s)\n",
    "        plt.savefig(fname=path)\n",
    "        fig.clf()\n",
    "\n",
    "generate_figures(5, 'figs', train_̇input)"
   ]
  },
  {
   "cell_type": "code",
   "execution_count": 46,
   "metadata": {},
   "outputs": [],
   "source": [
    ""
   ]
  },
  {
   "cell_type": "code",
   "execution_count": 37,
   "metadata": {},
   "outputs": [],
   "source": []
  },
  {
   "cell_type": "code",
   "execution_count": 23,
   "metadata": {},
   "outputs": [],
   "source": []
  },
  {
   "cell_type": "code",
   "execution_count": 23,
   "metadata": {},
   "outputs": [],
   "source": []
  },
  {
   "cell_type": "code",
   "execution_count": null,
   "metadata": {},
   "outputs": [],
   "source": []
  }
 ],
 "metadata": {
  "kernelspec": {
   "display_name": "Python 2",
   "language": "python",
   "name": "python2"
  },
  "language_info": {
   "codemirror_mode": {
    "name": "ipython",
    "version": 2
   },
   "file_extension": ".py",
   "mimetype": "text/x-python",
   "name": "python",
   "nbconvert_exporter": "python",
   "pygments_lexer": "ipython2",
   "version": "2.7.6"
  }
 },
 "nbformat": 4,
 "nbformat_minor": 0
}
